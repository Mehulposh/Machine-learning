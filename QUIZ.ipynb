{
 "cells": [
  {
   "cell_type": "code",
   "execution_count": 1,
   "id": "072f2377",
   "metadata": {},
   "outputs": [
    {
     "name": "stdout",
     "output_type": "stream",
     "text": [
      "Welcome to AskPython Quiz\n",
      "Are you ready to play the Quiz ? (yes/no) :yes\n",
      "Question 1: What is your Favourite programming language?c++\n",
      "Wrong Answer :(\n",
      "Question 2: Do you follow any author on AskPython? \n",
      "Wrong Answer :(\n",
      "Question 3: What is the name of your favourite website for learning Python?askpython\n",
      "correct\n",
      "Thankyou for Playing this small quiz game, you attempted 1 questions correctly!\n",
      "Marks obtained: 33.33333333333333\n",
      "BYE!\n"
     ]
    }
   ],
   "source": [
    "print('Welcome to AskPython Quiz')\n",
    "answer=input('Are you ready to play the Quiz ? (yes/no) :')\n",
    "score=0\n",
    "total_questions=3\n",
    " \n",
    "if answer.lower()=='yes':\n",
    "    answer=input('Question 1: What is your Favourite programming language?')\n",
    "    if answer.lower()=='python':\n",
    "        score += 1\n",
    "        print('correct')\n",
    "    else:\n",
    "        print('Wrong Answer :(')\n",
    " \n",
    " \n",
    "    answer=input('Question 2: Do you follow any author on AskPython? ')\n",
    "    if answer.lower()=='yes':\n",
    "        score += 1\n",
    "        print('correct')\n",
    "    else:\n",
    "        print('Wrong Answer :(')\n",
    " \n",
    "    answer=input('Question 3: What is the name of your favourite website for learning Python?')\n",
    "    if answer.lower()=='askpython':\n",
    "        score += 1\n",
    "        print('correct')\n",
    "    else:\n",
    "        print('Wrong Answer :(')\n",
    " \n",
    "print('Thankyou for Playing this small quiz game, you attempted',score,\"questions correctly!\")\n",
    "mark=(score/total_questions)*100\n",
    "print('Marks obtained:',mark)\n",
    "print('BYE!')"
   ]
  },
  {
   "cell_type": "code",
   "execution_count": null,
   "id": "d279dab5",
   "metadata": {},
   "outputs": [],
   "source": []
  }
 ],
 "metadata": {
  "kernelspec": {
   "display_name": "Python 3 (ipykernel)",
   "language": "python",
   "name": "python3"
  },
  "language_info": {
   "codemirror_mode": {
    "name": "ipython",
    "version": 3
   },
   "file_extension": ".py",
   "mimetype": "text/x-python",
   "name": "python",
   "nbconvert_exporter": "python",
   "pygments_lexer": "ipython3",
   "version": "3.9.13"
  }
 },
 "nbformat": 4,
 "nbformat_minor": 5
}
